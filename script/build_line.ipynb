{
 "cells": [
  {
   "cell_type": "code",
   "execution_count": 1,
   "id": "7c42f94e-0a78-4544-9503-d4b195a01faa",
   "metadata": {},
   "outputs": [],
   "source": [
    "import numpy as np\n",
    "\n",
    "# 生成数组\n",
    "lin = np.linspace(1,3,401)\n",
    "\n",
    "# 保存数组到文件\n",
    "np.save(\"lin.npy\", lin)"
   ]
  }
 ],
 "metadata": {
  "kernelspec": {
   "display_name": "Python 3 (ipykernel)",
   "language": "python",
   "name": "python3"
  },
  "language_info": {
   "codemirror_mode": {
    "name": "ipython",
    "version": 3
   },
   "file_extension": ".py",
   "mimetype": "text/x-python",
   "name": "python",
   "nbconvert_exporter": "python",
   "pygments_lexer": "ipython3",
   "version": "3.10.8"
  }
 },
 "nbformat": 4,
 "nbformat_minor": 5
}
