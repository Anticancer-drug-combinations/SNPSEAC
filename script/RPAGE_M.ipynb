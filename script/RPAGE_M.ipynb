{
 "cells": [
  {
   "cell_type": "code",
   "execution_count": 23,
   "id": "9bdaeb7c-c779-4853-9553-15e332f96df9",
   "metadata": {},
   "outputs": [
    {
     "data": {
      "text/html": [
       "<strong>png:</strong> 2"
      ],
      "text/latex": [
       "\\textbf{png:} 2"
      ],
      "text/markdown": [
       "**png:** 2"
      ],
      "text/plain": [
       "png \n",
       "  2 "
      ]
     },
     "metadata": {},
     "output_type": "display_data"
    }
   ],
   "source": [
    "# 安装和加载需要的软件包\n",
    "# install.packages(\"plot3D\")\n",
    "\n",
    "library(readxl)\n",
    "library(plot3D)\n",
    "pdf(\"old_o.pdf\", width = 10, height = 10)\n",
    "# 读取数据\n",
    "data <- read_excel(\"583drugs39cellsynergy.xlsx\", sheet = 1)\n",
    "data <- data[, -c(1,2)]\n",
    "\n",
    "# 创建 x, y, z 向量\n",
    "x <- rep(1:nrow(data), ncol(data))\n",
    "y <- rep(1:ncol(data), each=nrow(data))\n",
    "z <- as.vector(as.matrix(data))\n",
    "\n",
    "# 绘制三维散点图\n",
    "scatter3D(x=x, y=y, z=z, colvar=z, bty=\"g\", pch=16, cex=1.5, \n",
    "          theta=30, phi=10, xlab=\"Drugs Combination\", ylab=\"Cells\", zlab=\"Value\")\n",
    "dev.off()"
   ]
  },
  {
   "cell_type": "code",
   "execution_count": 24,
   "id": "cfdc1735-93df-43ba-9a19-fb296927c26c",
   "metadata": {},
   "outputs": [
    {
     "data": {
      "text/html": [
       "<strong>png:</strong> 2"
      ],
      "text/latex": [
       "\\textbf{png:} 2"
      ],
      "text/markdown": [
       "**png:** 2"
      ],
      "text/plain": [
       "png \n",
       "  2 "
      ]
     },
     "metadata": {},
     "output_type": "display_data"
    }
   ],
   "source": [
    "# 安装和加载需要的软件包\n",
    "# install.packages(\"plot3D\")\n",
    "library(readxl)\n",
    "library(plot3D)\n",
    "pdf(\"old_n.pdf\", width = 10, height = 10)\n",
    "# 读取数据\n",
    "data <- read_excel(\"583drugs39cell Zscore行标准化 synergy.xlsx\", sheet = 1)\n",
    "\n",
    "# 去除第二、第三列\n",
    "data <- data[, -c(1,2)]\n",
    "\n",
    "# 创建 x, y, z 向量\n",
    "x <- rep(1:nrow(data), ncol(data))\n",
    "y <- rep(1:ncol(data), each=nrow(data))\n",
    "z <- as.vector(as.matrix(data))\n",
    "\n",
    "# 绘制三维散点图\n",
    "scatter3D(x=x, y=y, z=z, colvar=z, bty=\"g\", pch=16, cex=1.5, \n",
    "          theta=30, phi=10, xlab=\"Drugs Combination\", ylab=\"Cells\", zlab=\"Value\")\n",
    "dev.off()"
   ]
  },
  {
   "cell_type": "code",
   "execution_count": 17,
   "id": "49d8d9a1-3ac4-4e70-956b-d1a13553d2d6",
   "metadata": {},
   "outputs": [],
   "source": [
    "# install.packages(\"readxl\")"
   ]
  },
  {
   "cell_type": "code",
   "execution_count": 25,
   "id": "b6fd54ab-4c4b-4f96-8364-02619a5d8cca",
   "metadata": {},
   "outputs": [
    {
     "data": {
      "text/html": [
       "<strong>png:</strong> 2"
      ],
      "text/latex": [
       "\\textbf{png:} 2"
      ],
      "text/markdown": [
       "**png:** 2"
      ],
      "text/plain": [
       "png \n",
       "  2 "
      ]
     },
     "metadata": {},
     "output_type": "display_data"
    }
   ],
   "source": [
    "# 读取数据\n",
    "data <- read.csv(\"pcc_cpu_test_multi_cells_line.csv\", header = TRUE)\n",
    "pdf(\"p_a_scatter_m.pdf\", width = 10, height = 10)\n",
    "# 计算最小二乘回归系数\n",
    "fit <- lm(data[, 5] ~ data[, 4])\n",
    "a <- round(coef(fit)[2], 4)\n",
    "b <- format(coef(fit)[1], scientific = FALSE, digits = 18)\n",
    "\n",
    "\n",
    "# 绘制散点图和回归线\n",
    "plot(data[, 4], data[, 5], xlab = \"Predicted Values\", ylab = \"Actual Values\", main = \"Predicted vs. Actual Values\", col = \"blue\")\n",
    "abline(fit, col = \"red\")\n",
    "\n",
    "# 添加趋势线图例\n",
    "legend(\"topleft\", legend = paste(\"y=\", a, \"x+\", b), col = \"red\", lty = 1, bty = \"n\")\n",
    "dev.off()"
   ]
  },
  {
   "cell_type": "code",
   "execution_count": 20,
   "id": "624b1eb7-7192-42cc-a5aa-35e763ea7394",
   "metadata": {},
   "outputs": [
    {
     "data": {
      "text/html": [
       "<strong>data[, 4]:</strong> 3.4543181909236e-89"
      ],
      "text/latex": [
       "\\textbf{data\\{{[}\\}, 4\\{{]}\\}:} 3.4543181909236e-89"
      ],
      "text/markdown": [
       "**data[, 4]:** 3.4543181909236e-89"
      ],
      "text/plain": [
       "   data[, 4] \n",
       "3.454318e-89 "
      ]
     },
     "metadata": {},
     "output_type": "display_data"
    }
   ],
   "source": [
    "p <- summary(fit)$coefficients[, 4][2]  # 提取截距项的p值\n",
    "p"
   ]
  },
  {
   "cell_type": "code",
   "execution_count": 27,
   "id": "f58dc674-c8ed-4877-845e-12406e909411",
   "metadata": {},
   "outputs": [
    {
     "data": {
      "text/html": [
       "<strong>png:</strong> 2"
      ],
      "text/latex": [
       "\\textbf{png:} 2"
      ],
      "text/markdown": [
       "**png:** 2"
      ],
      "text/plain": [
       "png \n",
       "  2 "
      ]
     },
     "metadata": {},
     "output_type": "display_data"
    }
   ],
   "source": [
    "# 读取数据\n",
    "data <- read.csv(\"pcc_cpu_test_multi.csv\", header = FALSE)\n",
    "pdf(\"m_density.pdf\", width = 10, height = 10)\n",
    "# 绘制密度图\n",
    "plot(density(data$V2), main = \"Density Plot of Drug Pair Neighbor Numbers\", xlab = \"Neighbor Number\", ylab = \"Density\")\n",
    "dev.off()"
   ]
  },
  {
   "cell_type": "code",
   "execution_count": 1,
   "id": "4a7912d4-a9d3-4d2b-a90e-aef7b0e7869d",
   "metadata": {},
   "outputs": [],
   "source": [
    "# # 读取文件\n",
    "# data <- read.csv(\"pcc_cpu_test_multi_target.csv\", header = TRUE)\n",
    "\n",
    "# # 提取元素名字为 '1111' 的行\n",
    "# subdata <- subset(data, data[, 3] == \"'TEMOZOLOMIDE', 'DINACICLIB'\")\n",
    "# subdata\n",
    "# # subdata[, 4]\n",
    "# # 提取第四列数据并绘制柱状图\n",
    "# barplot(subdata[, 4])\n"
   ]
  },
  {
   "cell_type": "code",
   "execution_count": 5,
   "id": "25cec400-822f-478f-a417-a903fbf57fc9",
   "metadata": {},
   "outputs": [
    {
     "data": {
      "text/html": [
       "<strong>png:</strong> 2"
      ],
      "text/latex": [
       "\\textbf{png:} 2"
      ],
      "text/markdown": [
       "**png:** 2"
      ],
      "text/plain": [
       "png \n",
       "  2 "
      ]
     },
     "metadata": {},
     "output_type": "display_data"
    }
   ],
   "source": [
    "# 读取csv文件，将第一列设置为行名\n",
    "data <- read.csv(\"olddata_Tanimoto.csv\", row.names = 1)\n",
    "pdf(\"o_t_sne.pdf\", width = 10, height = 10)\n",
    "\n",
    "library(plot3D)\n",
    "# 提取上三角数据\n",
    "data_matrix <- as.matrix(data)\n",
    "data_matrix[lower.tri(data_matrix)] <- 0\n",
    "\n",
    "# 进行t-SNE降维\n",
    "tsne_result <- Rtsne::Rtsne(data_matrix, dims = 3, perplexity = 50, max_iter = 1000)\n",
    "\n",
    "# 获取降维后的三维坐标\n",
    "x <- tsne_result$Y[, 1]\n",
    "y <- tsne_result$Y[, 2]\n",
    "z <- tsne_result$Y[, 3]\n",
    "scatter3D(x=x, y=y, z=z, colvar=z, bty=\"g\", pch=16, cex=1.5, \n",
    "          theta=30, phi=10, xlab=\"Drugs Combination\", ylab=\"Drugs Combination\", zlab=\"Value\")\n",
    "dev.off()"
   ]
  }
 ],
 "metadata": {
  "kernelspec": {
   "display_name": "R",
   "language": "R",
   "name": "ir"
  },
  "language_info": {
   "codemirror_mode": "r",
   "file_extension": ".r",
   "mimetype": "text/x-r-source",
   "name": "R",
   "pygments_lexer": "r",
   "version": "4.2.0"
  }
 },
 "nbformat": 4,
 "nbformat_minor": 5
}
